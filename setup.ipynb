{
 "cells": [
  {
   "cell_type": "code",
   "execution_count": null,
   "metadata": {},
   "outputs": [],
   "source": [
    "%pip install -q imgaug\n",
    "%pip install -q tqdm\n",
    "%pip install -q shapely"
   ]
  },
  {
   "cell_type": "markdown",
   "metadata": {},
   "source": [
    "# Get Describable Textures Dataset (DTD)\n",
    "A convenient way to generate backgrounds for the images of the cards dataset"
   ]
  },
  {
   "cell_type": "code",
   "execution_count": null,
   "metadata": {},
   "outputs": [],
   "source": [
    "!wget https://www.robots.ox.ac.uk/~vgg/data/dtd/download/dtd-r1.0.1.tar.gz \n",
    "# download manually please!"
   ]
  },
  {
   "cell_type": "code",
   "execution_count": null,
   "metadata": {},
   "outputs": [],
   "source": [
    "!tar xf temp/dtd-r1.0.1.tar.gz"
   ]
  },
  {
   "cell_type": "markdown",
   "metadata": {},
   "source": [
    "### Load all *jpg from dtd subdirectories and save them in a pickle file (1x)\n",
    "\n",
    "The next times, we will directly load the pickle file "
   ]
  },
  {
   "cell_type": "code",
   "execution_count": null,
   "metadata": {},
   "outputs": [],
   "source": [
    "dtd_dir=\"dtd/images/\"\n",
    "bg_images=[]\n",
    "for subdir in glob(dtd_dir+\"/*\"):\n",
    "    for f in glob(subdir+\"/*.jpg\"):\n",
    "        bg_images.append(mpimg.imread(f))\n",
    "print(\"Nb of images loaded :\",len(bg_images))\n",
    "print(\"Saved in :\",backgrounds_pck_fn)\n",
    "pickle.dump(bg_images,open(backgrounds_pck_fn,'wb'))"
   ]
  },
  {
   "cell_type": "code",
   "execution_count": null,
   "metadata": {},
   "outputs": [],
   "source": [
    "# Clean-up\n",
    "!rm -r dtd\n",
    "#!rm dtd-r1.0.1.tar.gz"
   ]
  }
 ],
 "metadata": {
  "language_info": {
   "name": "python"
  }
 },
 "nbformat": 4,
 "nbformat_minor": 2
}
